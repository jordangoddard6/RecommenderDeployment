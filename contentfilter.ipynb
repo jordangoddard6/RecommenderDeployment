{
 "cells": [
  {
   "cell_type": "code",
   "execution_count": 1,
   "metadata": {},
   "outputs": [
    {
     "name": "stdout",
     "output_type": "stream",
     "text": [
      "Recommendation CSV saved to: C:\\Users\\emmaj\\Downloads\\content_recommendations.csv\n",
      "Model saved to: C:\\Users\\emmaj\\Downloads\\contentmodel.sav\n"
     ]
    }
   ],
   "source": [
    "import pandas as pd\n",
    "from sklearn.feature_extraction.text import TfidfVectorizer\n",
    "from sklearn.metrics.pairwise import cosine_similarity\n",
    "import pickle\n",
    "\n",
    "# Load the dataset\n",
    "df = pd.read_csv(r\"C:\\Users\\emmaj\\Downloads\\shared_articles.csv\")\n",
    "\n",
    "# Drop rows with missing text\n",
    "df = df.dropna(subset=['text'])\n",
    "\n",
    "# Only keep necessary columns\n",
    "df_reduced = df[['contentId', 'title', 'text']].reset_index(drop=True)\n",
    "\n",
    "# TF-IDF Vectorization on the 'text' column\n",
    "tfidf = TfidfVectorizer(stop_words='english')\n",
    "tfidf_matrix = tfidf.fit_transform(df_reduced['text'])\n",
    "\n",
    "# Compute Cosine Similarity Matrix\n",
    "cosine_sim = cosine_similarity(tfidf_matrix, tfidf_matrix)\n",
    "\n",
    "# Map original contentId to dataframe index\n",
    "content_id_to_index = {cid: idx for idx, cid in enumerate(df_reduced['contentId'])}\n",
    "index_to_content_id = {idx: cid for idx, cid in enumerate(df_reduced['contentId'])}\n",
    "\n",
    "# Generate top 5 recommendations for each article\n",
    "recommendations = []\n",
    "\n",
    "for idx, row in df_reduced.iterrows():\n",
    "    sim_scores = list(enumerate(cosine_sim[idx]))\n",
    "    sim_scores = sorted(sim_scores, key=lambda x: x[1], reverse=True)\n",
    "    top_similar = sim_scores[1:6]  # Top 5, skipping itself\n",
    "\n",
    "    for rec_idx, score in top_similar:\n",
    "        recommendations.append({\n",
    "            'contentId': index_to_content_id[idx],\n",
    "            'recommendedContentId': index_to_content_id[rec_idx],\n",
    "            'similarityScore': round(score, 4)\n",
    "        })\n",
    "\n",
    "# Save recommendations to CSV\n",
    "csv_path = r\"C:\\Users\\emmaj\\Downloads\\content_recommendations.csv\"\n",
    "rec_df = pd.DataFrame(recommendations)\n",
    "rec_df.to_csv(csv_path, index=False)\n",
    "\n",
    "print(f\"Recommendation CSV saved to: {csv_path}\")\n",
    "\n",
    "# Save the model for web app use\n",
    "content_model = {\n",
    "    'tfidf_vectorizer': tfidf,\n",
    "    'cosine_similarity': cosine_sim,\n",
    "    'contentId_to_title': dict(zip(df_reduced['contentId'], df_reduced['title']))\n",
    "}\n",
    "model_path = r\"C:\\Users\\emmaj\\Downloads\\contentmodel.sav\"\n",
    "with open(model_path, 'wb') as f:\n",
    "    pickle.dump(content_model, f)\n",
    "\n",
    "print(f\"Model saved to: {model_path}\")\n",
    "\n",
    "\n"
   ]
  }
 ],
 "metadata": {
  "kernelspec": {
   "display_name": "Python 3",
   "language": "python",
   "name": "python3"
  },
  "language_info": {
   "codemirror_mode": {
    "name": "ipython",
    "version": 3
   },
   "file_extension": ".py",
   "mimetype": "text/x-python",
   "name": "python",
   "nbconvert_exporter": "python",
   "pygments_lexer": "ipython3",
   "version": "3.13.1"
  }
 },
 "nbformat": 4,
 "nbformat_minor": 2
}
